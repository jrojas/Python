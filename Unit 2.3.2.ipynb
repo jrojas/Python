{
 "cells": [
  {
   "cell_type": "code",
   "execution_count": null,
   "metadata": {
    "collapsed": false,
    "scrolled": false
   },
   "outputs": [],
   "source": [
    "import numpy as np\n",
    "import pandas as pd\n",
    "import matplotlib.pyplot as plt\n",
    "\n",
    "%matplotlib inline\n",
    "loansData = pd.read_csv('https://spark-public.s3.amazonaws.com/dataanalysis/loansData.csv')\n",
    "\n",
    "\n",
    "cleanInterestRate = loansData['Interest.Rate'].map(lambda x: round(float(x.rstrip('%')) / 100, 4))\n",
    "loansData['Interest.Rate'] = cleanInterestRate\n",
    "print loansData['Interest.Rate'][0:5]\n",
    "\n",
    "\n",
    "cleanLoanLength = loansData['Loan.Length'].map(lambda x: int(x.rstrip(' months')))\n",
    "loansData['Loan.Length']=cleanLoanLength\n",
    "print loansData['Loan.Length'][0:5]\n",
    "\n",
    "\n",
    "\n",
    "loansData['FICO.Range'][0:5]\n",
    "cleanFICORange = loansData['FICO.Range'].map(lambda x: x.split('-'))\n",
    "cleanFICORange = cleanFICORange.map(lambda x: [int(n) for n in x])\n",
    "print  cleanFICORange[0:5]\n",
    "print cleanFICORange[0:5].values[0]\n",
    "print type(cleanFICORange[0:5].values[0][0])\n",
    "loansData['FICO.Range']=cleanFICORange\n",
    "\n",
    "loansData['FICO.Score'] = loansData['FICO.Range'].map(lambda x: [int(n) for n in x][0])\n",
    "#print loansData['FICO.Score'][0:5].values[0][0]\n",
    "\n",
    "#loansData.hist()\n",
    "#loansData.hist(column='FICO.Range')\n",
    "#plt.show()\n",
    "#print loansData\n",
    "#print loansData['FICO.Score'][0:10].values[0:10][0:10]\n",
    "#ld = loansData['FICO.Range']\n",
    "#for i in ld:\n",
    "        #print['FICO.Score'][0:5]\n",
    "        \n",
    "#end\n",
    "plt.figure()\n",
    "p = loansData['FICO.Score'].hist()\n",
    "\n",
    "\n",
    "#print loansData\n",
    "\n",
    "\n",
    "a = pd.scatter_matrix(loansData, alpha=0.05, figsize=(10,10))\n",
    "a = pd.scatter_matrix(loansData, alpha=0.05, figsize=(10,10), diagonal='hist')\n",
    "plt.show()\n",
    "\n",
    "ld = loansData['FICO.Range'][0:5]\n",
    "for i in ld:\n",
    "        print i[0]\n"
   ]
  },
  {
   "cell_type": "code",
   "execution_count": null,
   "metadata": {
    "collapsed": true
   },
   "outputs": [],
   "source": []
  },
  {
   "cell_type": "code",
   "execution_count": null,
   "metadata": {
    "collapsed": true
   },
   "outputs": [],
   "source": []
  }
 ],
 "metadata": {
  "kernelspec": {
   "display_name": "Python 2",
   "language": "python",
   "name": "python2"
  },
  "language_info": {
   "codemirror_mode": {
    "name": "ipython",
    "version": 2
   },
   "file_extension": ".py",
   "mimetype": "text/x-python",
   "name": "python",
   "nbconvert_exporter": "python",
   "pygments_lexer": "ipython2",
   "version": "2.7.10"
  }
 },
 "nbformat": 4,
 "nbformat_minor": 0
}
