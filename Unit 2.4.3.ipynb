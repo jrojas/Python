{
 "cells": [
  {
   "cell_type": "code",
   "execution_count": null,
   "metadata": {
    "collapsed": false,
    "scrolled": false
   },
   "outputs": [],
   "source": [
    "import numpy as np\n",
    "import pandas as pd\n",
    "import statsmodels.api as sm\n",
    "import matplotlib.pyplot as plt\n",
    "%matplotlib inline\n",
    "\n",
    "# load clead data\n",
    "loansData = pd.read_csv('loansData_clean.csv')\n",
    "\n",
    "#Interest Rate < 12%\n",
    "\n",
    "#loansData['IR_TF'] = np.where(loansData['Interest.Rate']<0.12,'0','1')\n",
    "loansData['IR_TF'] = loansData['Interest.Rate'].map(lambda i: i < 0.12)\n",
    "\n",
    "#intercept column\n",
    "loansData['Intercept'] = 1\n",
    "\n",
    "#independent variables\n",
    "ind_vars = ['FICO.Score','Amount.Requested','Intercept']\n",
    "\n",
    "\n",
    "\n",
    "# Define the model\n",
    "logit = sm.Logit(loansData['IR_TF'], loansData[ind_vars])\n",
    "\n",
    "# fit model\n",
    "result = logit.fit()\n",
    "\n",
    "#Get the fitted coefficients from the results\n",
    "coeff = result.params\n",
    "\n",
    "print coeff\n",
    "\n",
    "\n",
    "def logistic_function(coeff,fico,amount):\n",
    "   \n",
    "      p = 1/(1 + np.exp(-(coeff[2] + coeff[0]*fico + coeff[1]*amount)))\n",
    "      return   p\n",
    "\n",
    "# define pred function\n",
    "def pred(coeff, fico, amount):\n",
    "    p = logistic_function(coeff, fico, amount)\n",
    "    if p >= 0.70:\n",
    "        print('Loan Approved!')\n",
    "    else:\n",
    "        print('Loan Declined!')\n",
    "\n",
    "    \n",
    "fico = int(raw_input('Enter a FICO score:'))\n",
    "\n",
    "amount = int(raw_input('Enter a Loan amount:'))\n",
    "\n",
    "\n",
    "# execute prediction function\n",
    "pred(coeff, fico, amount)\n",
    "\n",
    "\n",
    "\n",
    "\n"
   ]
  },
  {
   "cell_type": "code",
   "execution_count": null,
   "metadata": {
    "collapsed": true
   },
   "outputs": [],
   "source": []
  }
 ],
 "metadata": {
  "kernelspec": {
   "display_name": "Python 2",
   "language": "python",
   "name": "python2"
  },
  "language_info": {
   "codemirror_mode": {
    "name": "ipython",
    "version": 2
   },
   "file_extension": ".py",
   "mimetype": "text/x-python",
   "name": "python",
   "nbconvert_exporter": "python",
   "pygments_lexer": "ipython2",
   "version": "2.7.10"
  }
 },
 "nbformat": 4,
 "nbformat_minor": 0
}
