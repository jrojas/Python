{
 "cells": [
  {
   "cell_type": "code",
   "execution_count": 5,
   "metadata": {
    "collapsed": false,
    "scrolled": true
   },
   "outputs": [
    {
     "name": "stdout",
     "output_type": "stream",
     "text": [
      "  Tech Name  AppCount        Stage       Status End Date  Start Date  \\\n",
      "0      CAPS         4  Development  In Progress     None  2015-03-01   \n",
      "1      CAPS         1  Development  In Progress     None  2015-05-21   \n",
      "2      CAPS         1  Testing/UAT  In Progress     None  2015-03-01   \n",
      "3      CAPS         1  Testing/UAT  In Progress     None  2015-06-04   \n",
      "4     CARMA         1  Development  In Progress     None  2015-03-01   \n",
      "\n",
      "         Year  TotalAppCaption  \\\n",
      "0  2015-03-01              123   \n",
      "1  2015-05-21              123   \n",
      "2  2015-03-01              123   \n",
      "3  2015-06-04              123   \n",
      "4  2015-03-01              123   \n",
      "\n",
      "                              SolutionRolloutCaption  SOX_Count HIPAAFlag DUAL  \n",
      "0  Total Number of Sox Application is 123.  Bar g...          0      True       \n",
      "1  Total Number of Sox Application is 123.  Bar g...          1      None       \n",
      "2  Total Number of Sox Application is 123.  Bar g...          0      True       \n",
      "3  Total Number of Sox Application is 123.  Bar g...          1      None       \n",
      "4  Total Number of Sox Application is 123.  Bar g...          0      True       \n"
     ]
    }
   ],
   "source": [
    "import pandas as pd\n",
    "import pyodbc\n",
    "import matplotlib.pyplot as plt\n",
    "%matplotlib inline\n",
    "\n",
    "# Parameters\n",
    "server = 'masdcalmd004.ssdc.kp.org'\n",
    "db = 'AE_DEV'\n",
    "\n",
    "# Create the connection\n",
    "conn = pyodbc.connect('DRIVER={SQL Server};SERVER=' + server + ';DATABASE=' + db + ';Trusted_Connection=yes')\n",
    "\n",
    "# query db\n",
    "sql = \"\"\"\n",
    "\n",
    "dbo.AE_Report_ProgramDashboard_SolutionsRollout\n",
    "\n",
    "\"\"\"\n",
    "df = pd.read_sql(sql, conn)\n",
    "#print df.head()\n",
    "#df['Tech Name'].value_counts()\n",
    "# Create group object\n",
    "print df.head()\n",
    "tech = df.\n",
    "#json = df.to_json('tech.json')\n",
    "#print json \n",
    "\n",
    "#one = df.groupby(['Tech Name','AppCount'])\n",
    "\n",
    "# Apply sum function\n",
    "#one.sum()\n",
    "\n",
    "\n",
    "#df.groupby(['AppCount','Tech Name']).sum()\n",
    "#df\n",
    "#df['Tech Name']\n",
    "\n",
    "#df.hist(column='SOX_Count' )\n",
    "\n",
    "\n",
    "#df.hist(column='Tech Name')"
   ]
  },
  {
   "cell_type": "code",
   "execution_count": null,
   "metadata": {
    "collapsed": true
   },
   "outputs": [],
   "source": []
  },
  {
   "cell_type": "code",
   "execution_count": null,
   "metadata": {
    "collapsed": true
   },
   "outputs": [],
   "source": []
  }
 ],
 "metadata": {
  "kernelspec": {
   "display_name": "Python 2",
   "language": "python",
   "name": "python2"
  },
  "language_info": {
   "codemirror_mode": {
    "name": "ipython",
    "version": 2
   },
   "file_extension": ".py",
   "mimetype": "text/x-python",
   "name": "python",
   "nbconvert_exporter": "python",
   "pygments_lexer": "ipython2",
   "version": "2.7.10"
  }
 },
 "nbformat": 4,
 "nbformat_minor": 0
}
