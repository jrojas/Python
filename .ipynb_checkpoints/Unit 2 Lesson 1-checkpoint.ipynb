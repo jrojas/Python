{
 "cells": [
  {
   "cell_type": "code",
   "execution_count": 1,
   "metadata": {
    "collapsed": false,
    "scrolled": false
   },
   "outputs": [
    {
     "name": "stdout",
     "output_type": "stream",
     "text": [
      "              Region Alcohol Tobacco\n",
      "0              North    6.47    4.03\n",
      "1          Yorkshire    6.13    3.76\n",
      "2          Northeast    6.19    3.77\n",
      "3      East Midlands    4.89    3.34\n",
      "4      West Midlands    5.63    3.47\n",
      "5        East Anglia    4.52    2.92\n",
      "6          Southeast    5.89    3.20\n",
      "7          Southwest    4.79    2.71\n",
      "8              Wales    5.27    3.53\n",
      "9           Scotland    6.08    4.51\n",
      "10  Northern Ireland    4.02    4.56\n",
      "mean: 5.443636\n",
      "median: 5.630000\n",
      "(array([ 4.02]), array([ 1.]))\n",
      "Tobacco:\n",
      "Range:1.850000\n",
      "Variance:0.348936\n",
      "Deviation:0.348936\n"
     ]
    }
   ],
   "source": [
    "import pandas as pd\n",
    "import scipy.stats as stats\n",
    "\n",
    "data = '''Region, Alcohol, Tobacco\n",
    "North, 6.47, 4.03\n",
    "Yorkshire, 6.13, 3.76\n",
    "Northeast, 6.19, 3.77\n",
    "East Midlands, 4.89, 3.34\n",
    "West Midlands, 5.63, 3.47\n",
    "East Anglia, 4.52, 2.92\n",
    "Southeast, 5.89, 3.20\n",
    "Southwest, 4.79, 2.71\n",
    "Wales, 5.27, 3.53\n",
    "Scotland, 6.08, 4.51\n",
    "Northern Ireland, 4.02, 4.56'''\n",
    "\n",
    "data = data.splitlines()\n",
    "data = [i.split(', ') for i in data]\n",
    "\n",
    "column_names = data[0] # this is the first row\n",
    "data_rows = data[1::] # these are all the following rows of data\n",
    "df = pd.DataFrame(data_rows, columns=column_names)\n",
    "\n",
    "print df\n",
    "df['Alcohol'] = df['Alcohol'].astype(float)\n",
    "df['Tobacco'] = df['Tobacco'].astype(float)\n",
    "mean = df['Alcohol'].mean() \n",
    "median =df['Alcohol'].median() \n",
    "print \"mean: %f\"  %mean \n",
    "print \"median: %f\"  %median \n",
    "# ask mentor\n",
    "print stats.mode(df['Alcohol']) \n",
    "\n",
    "\n",
    "df.describe()\n",
    "\n",
    "rangeTobacco = max(df['Tobacco']) - min(df['Tobacco'])\n",
    "standardDeviation= df['Tobacco'].std() \n",
    "varianceTobacco = df['Tobacco'].var() \n",
    "print \"Tobacco:\"\n",
    "print \"Range:%f\" %rangeTobacco\n",
    "print \"Variance:%f\" %varianceTobacco\n",
    "print \"Deviation:%f\" %varianceTobacco"
   ]
  },
  {
   "cell_type": "code",
   "execution_count": 25,
   "metadata": {
    "collapsed": false
   },
   "outputs": [
    {
     "name": "stdout",
     "output_type": "stream",
     "text": [
      "The range for the Alcohol and Tobacco dataset is: 2.450000 and 1.850000 \n",
      "The mean for the Alcohol and Tobacco dataset is: 5.443636 and 3.618182 \n",
      "The median for the Alcohol and Tobacco dataset is: 5.443636 and 3.618182 \n",
      "The mode for the Alcohol and Tobacco dataset is: (array([ 4.02]), array([ 1.])) and (array([ 2.71]), array([ 1.])) \n",
      "The Variance for the Alcohol and Tobacco dataset is: 0.636425454545 and 0.348936363636 \n",
      "The Standard Deviation for the Alcohol and Tobacco dataset is: 0.797762780873 and 0.590708357514 \n"
     ]
    }
   ],
   "source": [
    "import pandas as pd\n",
    "import scipy.stats as stats\n",
    "\n",
    "data = '''Region, Alcohol, Tobacco\n",
    "North, 6.47, 4.03\n",
    "Yorkshire, 6.13, 3.76\n",
    "Northeast, 6.19, 3.77\n",
    "East Midlands, 4.89, 3.34\n",
    "West Midlands, 5.63, 3.47\n",
    "East Anglia, 4.52, 2.92\n",
    "Southeast, 5.89, 3.20\n",
    "Southwest, 4.79, 2.71\n",
    "Wales, 5.27, 3.53\n",
    "Scotland, 6.08, 4.51\n",
    "Northern Ireland, 4.02, 4.56'''\n",
    "\n",
    "data = data.splitlines()\n",
    "data = [i.split(', ') for i in data]\n",
    "\n",
    "column_names = data[0] # this is the first row\n",
    "data_rows = data[1::] # these are all the following rows of data\n",
    "df = pd.DataFrame(data_rows, columns=column_names)\n",
    "\n",
    "#creats floats\n",
    "df['Alcohol'] = df['Alcohol'].astype(float)\n",
    "df['Tobacco'] = df['Tobacco'].astype(float)\n",
    "\n",
    "#varibles\n",
    "meanAlcohol = df['Alcohol'].mean() \n",
    "meanTobacco = df['Tobacco'].mean() \n",
    "medianTobacco =df['Tobacco'].median()\n",
    "medianAlcohol =df['Alcohol'].median()\n",
    "modeAlcohol =stats.mode(df['Alcohol']) \n",
    "modeTobacco =stats.mode(df['Tobacco']) \n",
    "varianceAlcohol = df['Alcohol'].var() \n",
    "varianceTobacco = df['Tobacco'].var() \n",
    "standardDeviationAlcohol= df['Alcohol'].std() \n",
    "standardDeviationTobacco= df['Tobacco'].std() \n",
    "\n",
    "#print values\n",
    "print \"The range for the Alcohol and Tobacco dataset is: %f and %f \" % (rangeAlcohol, rangeTobacco)\n",
    "print \"The mean for the Alcohol and Tobacco dataset is: %f and %f \" % (meanAlcohol, meanTobacco)\n",
    "print \"The median for the Alcohol and Tobacco dataset is: %f and %f \" % (meanAlcohol, meanTobacco)\n",
    "print \"The mode for the Alcohol and Tobacco dataset is: %s and %s \" % (modeAlcohol, modeTobacco)\n",
    "print \"The Variance for the Alcohol and Tobacco dataset is: %s and %s \" % (varianceAlcohol, varianceTobacco)\n",
    "print \"The Standard Deviation for the Alcohol and Tobacco dataset is: %s and %s \" % (standardDeviationAlcohol, standardDeviationTobacco)"
   ]
  },
  {
   "cell_type": "code",
   "execution_count": null,
   "metadata": {
    "collapsed": true
   },
   "outputs": [],
   "source": []
  }
 ],
 "metadata": {
  "kernelspec": {
   "display_name": "Python 2",
   "language": "python",
   "name": "python2"
  },
  "language_info": {
   "codemirror_mode": {
    "name": "ipython",
    "version": 2
   },
   "file_extension": ".py",
   "mimetype": "text/x-python",
   "name": "python",
   "nbconvert_exporter": "python",
   "pygments_lexer": "ipython2",
   "version": "2.7.10"
  }
 },
 "nbformat": 4,
 "nbformat_minor": 0
}
