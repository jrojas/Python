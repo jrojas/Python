{
 "cells": [
  {
   "cell_type": "code",
   "execution_count": 1,
   "metadata": {
    "collapsed": false
   },
   "outputs": [
    {
     "name": "stdout",
     "output_type": "stream",
     "text": [
      "Counter({9: 3, 1: 1, 4: 1, 5: 1, 6: 1})\n",
      "The frequency of number 1 is 0.142857142857\n",
      "The frequency of number 4 is 0.142857142857\n",
      "The frequency of number 5 is 0.142857142857\n",
      "The frequency of number 6 is 0.142857142857\n",
      "The frequency of number 9 is 0.428571428571\n"
     ]
    }
   ],
   "source": [
    "import collections\n",
    "\n",
    "testlist = [1, 4, 5, 6, 9, 9, 9]\n",
    "\n",
    "c = collections.Counter(testlist)\n",
    "\n",
    "print c\n",
    "\n",
    "# calculate the number of instances in the list\n",
    "count_sum = sum(c.values())\n",
    "\n",
    "for k,v in c.iteritems():\n",
    "  print \"The frequency of number \" + str(k) + \" is \" + str(float(v) / count_sum)"
   ]
  },
  {
   "cell_type": "code",
   "execution_count": null,
   "metadata": {
    "collapsed": true
   },
   "outputs": [],
   "source": []
  }
 ],
 "metadata": {
  "kernelspec": {
   "display_name": "Python 2",
   "language": "python",
   "name": "python2"
  },
  "language_info": {
   "codemirror_mode": {
    "name": "ipython",
    "version": 2
   },
   "file_extension": ".py",
   "mimetype": "text/x-python",
   "name": "python",
   "nbconvert_exporter": "python",
   "pygments_lexer": "ipython2",
   "version": "2.7.10"
  }
 },
 "nbformat": 4,
 "nbformat_minor": 0
}
