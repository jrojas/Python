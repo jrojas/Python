{
 "cells": [
  {
   "cell_type": "code",
   "execution_count": 2,
   "metadata": {
    "collapsed": false
   },
   "outputs": [
    {
     "name": "stdout",
     "output_type": "stream",
     "text": [
      "SQLite version: 3.6.21\n"
     ]
    }
   ],
   "source": [
    "import sqlite3 as lite\n",
    "\n",
    "# Here you connect to the database. The `connect()` method returns a connection object.\n",
    "con = lite.connect('getting_started.db')\n",
    "\n",
    "with con:\n",
    "  # From the connection, you get a cursor object. The cursor is what goes over the records that result from a query.\n",
    "  cur = con.cursor()    \n",
    "  cur.execute('SELECT SQLITE_VERSION()')\n",
    "  # You're fetching the data from the cursor object. Because you're only fetching one record, you'll use the `fetchone()` method. If fetching more than one record, use the `fetchall()` method.\n",
    "  data = cur.fetchone()\n",
    "  # Finally, print the result.\n",
    "  print \"SQLite version: %s\" % data"
   ]
  },
  {
   "cell_type": "code",
   "execution_count": 4,
   "metadata": {
    "collapsed": true
   },
   "outputs": [
    {
     "name": "stdout",
     "output_type": "stream",
     "text": [
      "(u'New York City', u'NY')\n",
      "(u'Boston', u'MA')\n",
      "(u'Chicago', u'IL')\n",
      "(u'Miami', u'FL')\n",
      "(u'Dallas', u'TX')\n",
      "(u'Seattle', u'WA')\n",
      "(u'Portland', u'OR')\n",
      "(u'San Francisco', u'CA')\n",
      "(u'Los Angeles', u'CA')\n"
     ]
    }
   ],
   "source": [
    "import sqlite3 as lite\n",
    "\n",
    "con = lite.connect('getting_started.db')\n",
    "\n",
    "with con:    \n",
    "\n",
    "    cur = con.cursor()    \n",
    "    cur.execute(\"SELECT * FROM cities\")\n",
    "\n",
    "    rows = cur.fetchall()\n",
    "\n",
    "    for row in rows:\n",
    "        print row"
   ]
  },
  {
   "cell_type": "code",
   "execution_count": 6,
   "metadata": {
    "collapsed": true
   },
   "outputs": [],
   "source": [
    "import sqlite3 as lite\n",
    "import pandas as pd\n",
    "\n",
    "con = lite.connect('getting_started.db')\n",
    "\n",
    "# Select all rows and print the result set one row at a time\n",
    "with con:\n",
    "\n",
    "  cur = con.cursor()\n",
    "  cur.execute(\"SELECT * FROM cities\")\n",
    "\n",
    "  rows = cur.fetchall()\n",
    "  df = pd.DataFrame(rows)"
   ]
  },
  {
   "cell_type": "code",
   "execution_count": 7,
   "metadata": {
    "collapsed": true
   },
   "outputs": [],
   "source": [
    "con = lite.connect('getting_started.db')\n",
    "\n",
    "# Select all rows and print the result set one row at a time\n",
    "with con:\n",
    "\n",
    "  cur = con.cursor()\n",
    "  cur.execute(\"SELECT * FROM cities\")\n",
    "\n",
    "\n",
    "  rows = cur.fetchall()\n",
    "  cols = [desc[0] for desc in cur.description]\n",
    "  df = pd.DataFrame(rows, columns=cols)"
   ]
  },
  {
   "cell_type": "code",
   "execution_count": 26,
   "metadata": {
    "collapsed": true
   },
   "outputs": [],
   "source": [
    "import sqlite3 as lite\n",
    "import pandas as pd\n",
    "\n",
    "con = lite.connect('getting_started.db')\n",
    "\n",
    "# Select all rows and print the result set one row at a time\n",
    "with con:\n",
    "\n",
    "  cur = con.cursor()\n",
    "  cur.execute(\"SELECT * FROM cities\")\n",
    "\n",
    "\n",
    "  rows = cur.fetchall()\n",
    "  cols = [desc[0] for desc in cur.description]\n",
    "  df = pd.DataFrame(rows, columns=cols)"
   ]
  },
  {
   "cell_type": "code",
   "execution_count": 16,
   "metadata": {
    "collapsed": false
   },
   "outputs": [
    {
     "name": "stdout",
     "output_type": "stream",
     "text": [
      "            name state\n",
      "0  New York City    NY\n",
      "1         Boston    MA\n",
      "2        Chicago    IL\n",
      "3          Miami    FL\n",
      "4         Dallas    TX\n",
      "5        Seattle    WA\n",
      "6       Portland    OR\n",
      "7  San Francisco    CA\n",
      "8    Los Angeles    CA\n"
     ]
    },
    {
     "data": {
      "text/html": [
       "<div>\n",
       "<table border=\"1\" class=\"dataframe\">\n",
       "  <thead>\n",
       "    <tr style=\"text-align: right;\">\n",
       "      <th></th>\n",
       "      <th>name</th>\n",
       "      <th>state</th>\n",
       "    </tr>\n",
       "  </thead>\n",
       "  <tbody>\n",
       "    <tr>\n",
       "      <th>count</th>\n",
       "      <td>9</td>\n",
       "      <td>9</td>\n",
       "    </tr>\n",
       "    <tr>\n",
       "      <th>unique</th>\n",
       "      <td>9</td>\n",
       "      <td>8</td>\n",
       "    </tr>\n",
       "    <tr>\n",
       "      <th>top</th>\n",
       "      <td>Boston</td>\n",
       "      <td>CA</td>\n",
       "    </tr>\n",
       "    <tr>\n",
       "      <th>freq</th>\n",
       "      <td>1</td>\n",
       "      <td>2</td>\n",
       "    </tr>\n",
       "  </tbody>\n",
       "</table>\n",
       "</div>"
      ],
      "text/plain": [
       "          name state\n",
       "count        9     9\n",
       "unique       9     8\n",
       "top     Boston    CA\n",
       "freq         1     2"
      ]
     },
     "execution_count": 16,
     "metadata": {},
     "output_type": "execute_result"
    }
   ],
   "source": [
    "print df\n",
    "df.describe()\n",
    "\n"
   ]
  },
  {
   "cell_type": "code",
   "execution_count": 10,
   "metadata": {
    "collapsed": true
   },
   "outputs": [
    {
     "ename": "NameError",
     "evalue": "name 'v_sqlite' is not defined",
     "output_type": "error",
     "traceback": [
      "\u001b[1;31m---------------------------------------------------------------------------\u001b[0m",
      "\u001b[1;31mNameError\u001b[0m                                 Traceback (most recent call last)",
      "\u001b[1;32m<ipython-input-10-2cdf1f65bfad>\u001b[0m in \u001b[0;36m<module>\u001b[1;34m()\u001b[0m\n\u001b[1;32m----> 1\u001b[1;33m \u001b[0mv_sqlite\u001b[0m\u001b[1;33m.\u001b[0m\u001b[0mpy\u001b[0m\u001b[1;33m\u001b[0m\u001b[0m\n\u001b[0m",
      "\u001b[1;31mNameError\u001b[0m: name 'v_sqlite' is not defined"
     ]
    }
   ],
   "source": [
    "v_sqlite.py\n"
   ]
  },
  {
   "cell_type": "code",
   "execution_count": 15,
   "metadata": {
    "collapsed": false,
    "scrolled": true
   },
   "outputs": [
    {
     "name": "stdout",
     "output_type": "stream",
     "text": [
      "<module 'v_sqlite' from 'v_sqlite.py'>\n"
     ]
    }
   ],
   "source": [
    "import v_sqlite\n",
    "pt = v_sqlite\n",
    "print pt"
   ]
  },
  {
   "cell_type": "code",
   "execution_count": 3,
   "metadata": {
    "collapsed": false
   },
   "outputs": [
    {
     "name": "stdout",
     "output_type": "stream",
     "text": [
      "The cities that are warmest in July are:\n",
      " 0    New York City\n",
      "1           Boston\n",
      "2          Chicago\n",
      "3           Dallas\n",
      "4          Seattle\n",
      "5         Portland\n",
      "Name: name, dtype: object\n"
     ]
    }
   ],
   "source": [
    "# Write a script called \"database.py\" to print out the cities with the July being the warmest month. Your script must:\n",
    "\n",
    "# Connect to the database\n",
    "import sqlite3 as lite\n",
    "import pandas as pd\n",
    "\n",
    "\n",
    "con = lite.connect('getting_started.db');\n",
    "\n",
    "# to discuss with mentor\n",
    "# Create the cities and weather tables (HINT: first pass the statement DROP TABLE IF EXISTS <table_name>; to remove the table before you execute the CREATE TABLE ... statement)\n",
    "#\n",
    "#\n",
    "#DROP TABLE IF EXISTS weather;\n",
    "#\n",
    "\n",
    "#Insert data into the two tables\n",
    "\n",
    "with con:\n",
    "\n",
    "    cur = con.cursor()\n",
    "    \n",
    "    cur.execute(\"DROP TABLE IF EXISTS cities;\")\n",
    "    cur.execute(\"CREATE TABLE cities (name text, state text);\")\n",
    "    cur.execute(\"INSERT INTO cities VALUES('New York City', 'NY')\")\n",
    "    cur.execute(\"INSERT INTO cities VALUES('Boston', 'MA')\")\n",
    "    cur.execute(\"INSERT INTO cities VALUES('Chicago', 'IL')\")\n",
    "    cur.execute(\"INSERT INTO cities VALUES('Miami', 'FL')\")\n",
    "    cur.execute(\"INSERT INTO cities VALUES('Dallas', 'TX')\")\n",
    "    cur.execute(\"INSERT INTO cities VALUES('Seattle', 'WA')\")\n",
    "    cur.execute(\"INSERT INTO cities VALUES('Portland', 'OR')\")\n",
    "    cur.execute(\"INSERT INTO cities VALUES('San Francisco', 'CA')\")\n",
    "    cur.execute(\"INSERT INTO cities VALUES('Los Angeles', 'CA')\")\n",
    "    \n",
    "    cur.execute(\"DROP TABLE IF EXISTS weather;\")\n",
    "    cur.execute(\"CREATE TABLE weather (city text, year integer,warm_month text,cold_month text,average_high integer);\")\n",
    "    cur.execute(\"INSERT INTO weather VALUES('New York City', 2013, 'July', 'January',62)\")\n",
    "    cur.execute(\"INSERT INTO weather VALUES('Boston', 2013, 'July', 'January',59)\")\n",
    "    cur.execute(\"INSERT INTO weather VALUES('Chicago', 2013, 'July', 'January',59)\")\n",
    "    cur.execute(\"INSERT INTO weather VALUES('Miami', 2013, 'August', 'January',84)\")\n",
    "    cur.execute(\"INSERT INTO weather VALUES('Dallas', 2013, 'July', 'January',77)\")\n",
    "    cur.execute(\"INSERT INTO weather VALUES('Seattle', 2013, 'July', 'January',61)\")\n",
    "    cur.execute(\"INSERT INTO weather VALUES('Portland', 2013, 'July', 'December',62)\")\n",
    "    cur.execute(\"INSERT INTO weather VALUES('San Francisco', 2013, 'September', 'December',64)\")\n",
    "    cur.execute(\"INSERT INTO weather VALUES('Los Angeles', 2013, 'September', 'December',62)\")\n",
    "\n",
    "\n",
    "#Join the data together\n",
    "#Load into a pandas DataFrame\n",
    "query = \"\"\"SELECT name, warm_month  FROM cities INNER JOIN weather ON name = city WHERE warm_month = 'July';\"\"\"\n",
    "with con:\n",
    "\n",
    "  cur = con.cursor()\n",
    "  cur.execute(query)\n",
    "\n",
    "  rows = cur.fetchall()\n",
    "  cols = [desc[0] for desc in cur.description]\n",
    "  df = pd.DataFrame(rows, columns=cols)\n",
    "\n",
    "\n",
    "#Print out the resulting city and state in a full sentence. For example: \"The cities that are warmest in July are: Las Vegas, NV, Atlanta, GA...\"\n",
    "\n",
    "CITY = df['name'];\n",
    "print \"The cities that are warmest in July are:\\n %s\"% CITY\n",
    "#Push your code to Github and enter the link below\n"
   ]
  },
  {
   "cell_type": "code",
   "execution_count": null,
   "metadata": {
    "collapsed": true
   },
   "outputs": [],
   "source": []
  }
 ],
 "metadata": {
  "kernelspec": {
   "display_name": "Python 2",
   "language": "python",
   "name": "python2"
  },
  "language_info": {
   "codemirror_mode": {
    "name": "ipython",
    "version": 2
   },
   "file_extension": ".py",
   "mimetype": "text/x-python",
   "name": "python",
   "nbconvert_exporter": "python",
   "pygments_lexer": "ipython2",
   "version": "2.7.10"
  }
 },
 "nbformat": 4,
 "nbformat_minor": 0
}
